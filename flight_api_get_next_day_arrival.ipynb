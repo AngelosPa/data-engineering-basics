{
  "cells": [
    {
      "cell_type": "markdown",
      "metadata": {
        "id": "HvAhPbm7QFjh"
      },
      "source": [
        "# Chapter three\n",
        "\n",
        "Collecting flight arrivals. Just like the weather API, we get the next day's arrivals using \"aerodatabox\" from \"rapidapi.com\". This function receives the latitude and longitude of a city as two arguments and, using the first endpoint, creates the list of all airports within 100 km. Then it loops over the airports and gets the arrivals and concatenates them at the end as a result to a data frame with all arrivals at exclusively public airports.\n",
        "I use Python's built-in \"datetime\" library to get always the next day and pass it as a variable to the endpoint.\n",
        "\n",
        "*KEEP IN MIND TO KEEP YOUR API KEY SECURE * ideally save it to an .ENV variable."
      ]
    },
    {
      "cell_type": "code",
      "execution_count": 8,
      "metadata": {
        "id": "-I72js3SgvJG"
      },
      "outputs": [],
      "source": [
        "# Give the city latitude and longitude\n",
        "# and get the next days arrival of every city airport in the range 100 km \n",
        "import pandas as pd\n",
        "import datetime\n",
        "import requests\n",
        "# GET THE KEY\n",
        "import os\n",
        "from dotenv import load_dotenv\n",
        "load_dotenv()\n",
        "UR_API_KEY = os.getenv('DB_ARRIVALS_KEY')\n",
        "\n",
        "def get_nextday_arrivals(lat, log ):\n",
        "\n",
        " coordinates = str(lat)+ '/' +str(log)\n",
        " # counting next day\n",
        " date_time = datetime.date.today() + datetime.timedelta(days=1)\n",
        " airport_time = date_time.strftime(\"%Y-%m-%d\")\n",
        " # api call for the \"icao\" number of each airport as unique key\n",
        " url = f'https://aerodatabox.p.rapidapi.com/airports/search/location/{coordinates}/km/100/16'\n",
        "\n",
        " headers = {\n",
        "\t\"X-RapidAPI-Key\": UR_API_KEY,\n",
        "\t\"X-RapidAPI-Host\": \"aerodatabox.p.rapidapi.com\"\n",
        " }\n",
        " \n",
        " response = requests.request(\"GET\", url, headers=headers)\n",
        " flights = response.json()\n",
        " clean_flights = pd.json_normalize(\n",
        "     flights[\"items\"],\n",
        "     \n",
        "       meta=['dt_txt', ['icao', 'icao'], ['name', 'name'], ['location', 'location']],\n",
        "          errors='ignore'\n",
        "          )\n",
        " clean_flights.rename(columns={'location.lon': 'lon',\n",
        "                             'location.lat': 'lat'},inplace=True)\n",
        " \n",
        " # get the list for the airports\n",
        " icao_list =pd.DataFrame(clean_flights).icao.to_list()\n",
        "\n",
        "\n",
        " icao_for_each_airport =[]\n",
        " arrivals_for_each_airport = []\n",
        "  # looping over the icao_list to get all arrivals\n",
        " if len(icao_list):\n",
        "    for icao in icao_list:\n",
        "        try:\n",
        "          url = f'https://aerodatabox.p.rapidapi.com/flights/airports/icao/{icao}/{airport_time}T08:00/{airport_time}T20:00'\n",
        "          querystring = {\"withLeg\":\"true\",\"direction\":\"Arrival\",\"withCancelled\":\"true\",\"withCodeshared\":\"true\",\"withCargo\":\"false\",\n",
        "                          \"withPrivate\":\"false\",\"withLocation\":\"true\"}\n",
        "          headers = {\n",
        "          \"X-RapidAPI-Key\": UR_API_KEY,\n",
        "          \"X-RapidAPI-Host\": \"aerodatabox.p.rapidapi.com\"}\n",
        "          response = requests.request(\"GET\", url, headers=headers, params=querystring)\n",
        "          arrivals_all = response.json()\n",
        "          \n",
        "        except: \n",
        "          print(f'this{icao} is a private aiport, it doesnt concern u ')\n",
        "          pass\n",
        "        # creating arrivals data frame \n",
        "        \n",
        "        arrivals_df = pd.json_normalize(\n",
        "        arrivals_all[\"arrivals\"])\n",
        "        arrivals_df.drop([ 'status', 'codeshareStatus', 'isCargo',\n",
        "          'departure.airport.icao', 'departure.airport.iata', 'departure.quality',\n",
        "          'arrival.scheduledTimeLocal', 'arrival.scheduledTimeUtc', 'arrival.quality', 'aircraft.model',\n",
        "          'airline.name', 'departure.scheduledTimeLocal',\n",
        "          'departure.scheduledTimeUtc', 'departure.terminal', 'callSign',\n",
        "          'departure.actualTimeLocal', 'departure.actualTimeUtc', 'aircraft.reg', 'aircraft.modeS',\n",
        "          'departure.checkInDesk', 'departure.runwayTimeLocal', \"arrival.actualTimeUtc\", 'departure.gate',\n",
        "          'departure.runwayTimeUtc'],axis = 1, inplace = True,errors='ignore') \n",
        "        arrivals_df.rename(columns={'departure.airport.name': 'where_from',\n",
        "                                'arrival.actualTimeLocal': 'arrival_time',\n",
        "                                'arrival.terminal': 'terminal',},inplace=True,errors='ignore')\n",
        "        arrivals_df[\"icao\"]=icao\n",
        "        arrivals_for_each_airport.append(arrivals_df)\n",
        "\n",
        "         #  arrivals_total_detailed = pd.merge(arrivals_total, clean_flights, on='icao', how='inner')\n",
        "\n",
        " return pd.concat(arrivals_for_each_airport , ignore_index=True) \n"
      ]
    },
    {
      "cell_type": "markdown",
      "metadata": {
        "id": "6ytIO4mW4D4W"
      },
      "source": [
        "You can choose any city but only be sure that the coordinates are accurate. "
      ]
    },
    {
      "cell_type": "code",
      "execution_count": null,
      "metadata": {
        "colab": {
          "base_uri": "https://localhost:8080/",
          "height": 244
        },
        "id": "-3xapd-whCiM",
        "outputId": "dc0a263e-32da-4ca5-855c-f7738d1e522f"
      },
      "outputs": [],
      "source": [
        "London = get_nextday_arrivals(\"51.511142\", \"-0.103869\" )\n",
        "Madrid = get_nextday_arrivals(\"40.2500\",\"03.4209\")\n",
        "Rome = get_nextday_arrivals(\"41.5336\",\"12.2858\")\n",
        "Paris = get_nextday_arrivals(\"48.5124\",\"2.2108\")\n",
        "all_cities_arrival =[Madrid,Rome,Paris]\n",
        "\n",
        "\n"
      ]
    },
    {
      "cell_type": "markdown",
      "metadata": {
        "id": "ffJDMSzH48k-"
      },
      "source": [
        "Now that we have the list let's concatenate it and create a (clean) Data frame with the:"
      ]
    },
    {
      "cell_type": "code",
      "execution_count": null,
      "metadata": {
        "id": "ccBGkZAk47rn"
      },
      "outputs": [],
      "source": [
        "all_cities_arrival_df = pd.concat(all_cities_arrival , ignore_index=True)\n",
        "all_cities_arrival_df['arrival_time'] = pd.to_datetime(all_cities_arrival_df['arrival_time'],utc=True)\n",
        "all_cities_arrival_df['terminal'] =all_cities_arrival_df['terminal'].fillna(\"not announced\")\n",
        "all_cities_arrival_df['arrival_time'] =all_cities_arrival_df['arrival_time'].fillna(0)\n"
      ]
    }
  ],
  "metadata": {
    "colab": {
      "provenance": []
    },
    "kernelspec": {
      "display_name": "Python 3.10.4 64-bit",
      "language": "python",
      "name": "python3"
    },
    "language_info": {
      "name": "python",
      "version": "3.10.4"
    },
    "vscode": {
      "interpreter": {
        "hash": "e5d44d20471fed6b31c84e96a507e39677b7979bf00486c2e6552218c91082f0"
      }
    }
  },
  "nbformat": 4,
  "nbformat_minor": 0
}
