{
  "cells": [
    {
      "cell_type": "markdown",
      "metadata": {
        "id": "9MSwbZ8I0FIE"
      },
      "source": [
        "# Chapter one\n",
        "Collect data from the web.\n",
        "To do this, we need a Python library for web scraping to automate the collection of demographic information. I have chosen BeautifulSoup to do the job.\n",
        "\n",
        "Create a dataFrame to store the collected data:\n",
        "I chose the Pandas library for this\n",
        "\n",
        "\n"
      ]
    },
    {
      "cell_type": "code",
      "execution_count": 2,
      "metadata": {
        "id": "XgXBWfrN7pGd"
      },
      "outputs": [],
      "source": [
        "from bs4 import BeautifulSoup\n",
        "import requests\n",
        "import pandas as pd\n"
      ]
    },
    {
      "cell_type": "markdown",
      "metadata": {
        "id": "NRYuoRRsJF0I"
      },
      "source": [
        "wwwww.wikipedia.org is a great place to start with web scraping . be aware of the structure of HTML in order to extract the text that you wish.     "
      ]
    },
    {
      "cell_type": "code",
      "execution_count": 6,
      "metadata": {
        "id": "9rQ4H-IUI9m5"
      },
      "outputs": [],
      "source": [
        "array_cities= []\n",
        "\n",
        "url = \"https://en.wikipedia.org/wiki/List_of_cities_in_the_European_Union_by_population_within_city_limits\"\n",
        "headers = {'Accept-Language': 'en-US,en;q=0.8'}\n",
        "response = requests.get(url, headers=headers)\n",
        "eu_cities_unstructured = BeautifulSoup(response.content, 'html.parser')\n",
        "eu_cities_unstructured\n",
        "table = eu_cities_unstructured.find('table', {'class':'wikitable sortable'})\n",
        "rows = table.find_all('tr')\n",
        "headers = [th.text.strip() for th in rows[0].find_all('th')]\n",
        "eu_cities =[]\n",
        "population = []\n",
        "country = []\n",
        "latitude = []\n",
        "longitude = []\n",
        "for row in rows[1:]:\n",
        "      eu_cities.append(row.find_all('td')[1].get_text())\n",
        "      population.append(row.find_all('td')[3].get_text())\n",
        "      country.append(row.find_all('td')[2].get_text())"
      ]
    },
    {
      "cell_type": "markdown",
      "metadata": {
        "id": "xBLUlwjBKQ50"
      },
      "source": [
        "To get the coordinates for each of the cities we choose we need to use an other link. \n"
      ]
    },
    {
      "cell_type": "code",
      "execution_count": null,
      "metadata": {
        "id": "rjyTOpuql-09"
      },
      "outputs": [],
      "source": [
        "# to append information into different arrays \n",
        "eu_cities_coordinates = []\n",
        "\n",
        "for link in eu_cities:\n",
        "   url = f'https://en.wikipedia.org/wiki/{link}'\n",
        "   headers = {'Accept-Language': 'en-US,en;q=0.8'}\n",
        "   response = requests.get(url, headers=headers)\n",
        "   eu_cities_coordinates.append(BeautifulSoup(response.content, 'html.parser'))\n",
        "# to get coordinates\n",
        "for city in eu_cities_coordinates:\n",
        "     if (len(city.select(\"span .latitude\")) ==0):\n",
        "        latitude.append(0)\n",
        "        longitude.append(0)\n",
        "     else:\n",
        "      latitude.append(city.select(\"span .latitude\")[0].get_text())\n",
        "      longitude.append(city.select(\"span .longitude\")[0].get_text())\n"
      ]
    },
    {
      "cell_type": "markdown",
      "metadata": {
        "id": "FcSkcrHQKm5S"
      },
      "source": [
        "\n",
        "\n",
        "Finally we can make the data frame. Make sure that the arrays have the same length or there aren't any missing values.\n",
        "after web scraping is always necessary to process to some data cleaning \n",
        "\n",
        "\n"
      ]
    },
    {
      "cell_type": "code",
      "execution_count": 10,
      "metadata": {
        "colab": {
          "base_uri": "https://localhost:8080/",
          "height": 143
        },
        "id": "s7Y9MpteJRF9",
        "outputId": "040dbcfe-7184-4c3c-ce1e-d00d7b49fb17"
      },
      "outputs": [
        {
          "data": {
            "text/html": [
              "<div>\n",
              "<style scoped>\n",
              "    .dataframe tbody tr th:only-of-type {\n",
              "        vertical-align: middle;\n",
              "    }\n",
              "\n",
              "    .dataframe tbody tr th {\n",
              "        vertical-align: top;\n",
              "    }\n",
              "\n",
              "    .dataframe thead th {\n",
              "        text-align: right;\n",
              "    }\n",
              "</style>\n",
              "<table border=\"1\" class=\"dataframe\">\n",
              "  <thead>\n",
              "    <tr style=\"text-align: right;\">\n",
              "      <th></th>\n",
              "      <th>eu_cities</th>\n",
              "      <th>population</th>\n",
              "      <th>country</th>\n",
              "    </tr>\n",
              "  </thead>\n",
              "  <tbody>\n",
              "    <tr>\n",
              "      <th>0</th>\n",
              "      <td>Berlin</td>\n",
              "      <td>3,677,472\\n</td>\n",
              "      <td>Germany\\n</td>\n",
              "    </tr>\n",
              "    <tr>\n",
              "      <th>1</th>\n",
              "      <td>Madrid</td>\n",
              "      <td>3,305,408\\n</td>\n",
              "      <td>Spain\\n</td>\n",
              "    </tr>\n",
              "    <tr>\n",
              "      <th>2</th>\n",
              "      <td>Rome</td>\n",
              "      <td>2,761,632\\n</td>\n",
              "      <td>Italy\\n</td>\n",
              "    </tr>\n",
              "  </tbody>\n",
              "</table>\n",
              "</div>"
            ],
            "text/plain": [
              "  eu_cities   population    country\n",
              "0    Berlin  3,677,472\\n  Germany\\n\n",
              "1    Madrid  3,305,408\\n    Spain\\n\n",
              "2      Rome  2,761,632\\n    Italy\\n"
            ]
          },
          "execution_count": 10,
          "metadata": {},
          "output_type": "execute_result"
        }
      ],
      "source": [
        "\n",
        "cities_dictionary = {}\n",
        "values =[eu_cities, population, country\n",
        "          , latitude, longitude\n",
        "         ]\n",
        "cols =[\"eu_cities\", \"population\", \"country\"\n",
        "        , \"latitude\", \"longitude\"\n",
        "       ]\n",
        "for key, value in zip(cols, values):\n",
        "     cities_dictionary[key] = value\n",
        "# countries\n",
        "cities_df = pd.DataFrame(cities_dictionary).head(30)\n",
        "cities_df.head(3)\n",
        "\n"
      ]
    }
  ],
  "metadata": {
    "colab": {
      "provenance": []
    },
    "kernelspec": {
      "display_name": "Python 3.10.4 64-bit",
      "language": "python",
      "name": "python3"
    },
    "language_info": {
      "codemirror_mode": {
        "name": "ipython",
        "version": 3
      },
      "file_extension": ".py",
      "mimetype": "text/x-python",
      "name": "python",
      "nbconvert_exporter": "python",
      "pygments_lexer": "ipython3",
      "version": "3.10.4"
    },
    "vscode": {
      "interpreter": {
        "hash": "e5d44d20471fed6b31c84e96a507e39677b7979bf00486c2e6552218c91082f0"
      }
    }
  },
  "nbformat": 4,
  "nbformat_minor": 0
}
